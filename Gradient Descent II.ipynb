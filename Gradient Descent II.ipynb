{
 "cells": [
  {
   "cell_type": "markdown",
   "id": "1674f1d4",
   "metadata": {},
   "source": [
    "# Gradient Descent II"
   ]
  },
  {
   "cell_type": "markdown",
   "id": "a861af70",
   "metadata": {},
   "source": [
    "In the last section, we discussed vanilla gradient descent and the addition of momentum in an effort increase convergence time. However, we noticed that the optimisation of a single parameter was favoured other all others due to the associated curvature."
   ]
  },
  {
   "cell_type": "markdown",
   "id": "048857a3",
   "metadata": {},
   "source": []
  }
 ],
 "metadata": {
  "language_info": {
   "name": "python"
  }
 },
 "nbformat": 4,
 "nbformat_minor": 5
}
