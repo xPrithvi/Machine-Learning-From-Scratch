{
 "cells": [
  {
   "cell_type": "markdown",
   "id": "ece04e09",
   "metadata": {},
   "source": [
    "https://www.youtube.com/watch?v=YevSE6bRhTo\n"
   ]
  }
 ],
 "metadata": {
  "language_info": {
   "name": "python"
  }
 },
 "nbformat": 4,
 "nbformat_minor": 5
}
