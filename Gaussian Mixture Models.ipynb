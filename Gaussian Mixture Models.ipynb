{
 "cells": [
  {
   "cell_type": "markdown",
   "id": "2650f8e2",
   "metadata": {},
   "source": [
    "# Gaussian Mixture Models"
   ]
  },
  {
   "cell_type": "markdown",
   "id": "84513b8c",
   "metadata": {},
   "source": [
    "### Theory \n",
    "\n",
    "Gaussian Mixture Models (GMMs) are a unsuperised learning method used for clustering. Compared to K-means, another popular clustering algorithm, GMMs are a soft-clustering method. This means that the classification of a data point $X_j$ to a given cluster is not certain, like in K-means (hard-clustering), but probabalistic. In GMMs, a given data point $X_j$ has the probabilities of $P_{j1}$, $P_{j2}$, $P_{j3}$, ..., $P_{jk}$, ..., $P_{jK}$ of belonging to each respective cluster $k$."
   ]
  },
  {
   "cell_type": "markdown",
   "id": "028970cd",
   "metadata": {},
   "source": [
    "## References\n",
    "\n",
    "https://builtin.com/articles/gaussian-mixture-model\n",
    "\n",
    "https://www.youtube.com/watch?v=YevSE6bRhTo"
   ]
  }
 ],
 "metadata": {
  "language_info": {
   "name": "python"
  }
 },
 "nbformat": 4,
 "nbformat_minor": 5
}
